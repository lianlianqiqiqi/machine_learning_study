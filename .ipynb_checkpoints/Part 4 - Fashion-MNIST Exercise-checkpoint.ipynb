{
 "cells": [
  {
   "cell_type": "markdown",
   "metadata": {},
   "source": [
    "# Classifying Fashion-MNIST\n",
    "\n",
    "Now it's your turn to build and train a neural network. You'll be using the [Fashion-MNIST dataset](https://github.com/zalandoresearch/fashion-mnist), a drop-in replacement for the MNIST dataset. MNIST is actually quite trivial with neural networks where you can easily achieve better than 97% accuracy. Fashion-MNIST is a set of 28x28 greyscale images of clothes. It's more complex than MNIST, so it's a better representation of the actual performance of your network, and a better representation of datasets you'll use in the real world.\n",
    "\n",
    "<img src='assets/fashion-mnist-sprite.png' width=500px>\n",
    "\n",
    "In this notebook, you'll build your own neural network. For the most part, you could just copy and paste the code from Part 3, but you wouldn't be learning. It's important for you to write the code yourself and get it to work. Feel free to consult the previous notebook though as you work through this.\n",
    "\n",
    "First off, let's load the dataset through torchvision."
   ]
  },
  {
   "cell_type": "code",
   "execution_count": 1,
   "metadata": {},
   "outputs": [
    {
     "name": "stdout",
     "output_type": "stream",
     "text": [
      "Downloading http://fashion-mnist.s3-website.eu-central-1.amazonaws.com/train-images-idx3-ubyte.gz\n",
      "Downloading http://fashion-mnist.s3-website.eu-central-1.amazonaws.com/train-labels-idx1-ubyte.gz\n",
      "Downloading http://fashion-mnist.s3-website.eu-central-1.amazonaws.com/t10k-images-idx3-ubyte.gz\n",
      "Downloading http://fashion-mnist.s3-website.eu-central-1.amazonaws.com/t10k-labels-idx1-ubyte.gz\n",
      "Processing...\n",
      "Done!\n"
     ]
    }
   ],
   "source": [
    "import torch\n",
    "from torchvision import datasets, transforms\n",
    "import helper\n",
    "\n",
    "# Define a transform to normalize the data\n",
    "transform = transforms.Compose([transforms.ToTensor(),\n",
    "                                transforms.Normalize((0.5, 0.5, 0.5), (0.5, 0.5, 0.5))])\n",
    "# Download and load the training data\n",
    "trainset = datasets.FashionMNIST('F_MNIST_data/', download=False, train=True, transform=transform)\n",
    "trainloader = torch.utils.data.DataLoader(trainset, batch_size=64, shuffle=True)\n",
    "\n",
    "# Download and load the test data\n",
    "testset = datasets.FashionMNIST('F_MNIST_data/', download=False, train=False, transform=transform)\n",
    "testloader = torch.utils.data.DataLoader(testset, batch_size=64, shuffle=True)"
   ]
  },
  {
   "cell_type": "markdown",
   "metadata": {},
   "source": [
    "Here we can see one of the images."
   ]
  },
  {
   "cell_type": "code",
   "execution_count": 2,
   "metadata": {},
   "outputs": [
    {
     "data": {
      "image/png": "[encoded data removed]",
      "text/plain": [
       "<Figure size 432x288 with 1 Axes>"
      ]
     },
     "metadata": {
      "needs_background": "light"
     },
     "output_type": "display_data"
    }
   ],
   "source": [
    "image, label = next(iter(trainloader))\n",
    "helper.imshow(image[0,:]);"
   ]
  },
  {
   "cell_type": "markdown",
   "metadata": {},
   "source": [
    "With the data loaded, it's time to import the necessary packages."
   ]
  },
  {
   "cell_type": "code",
   "execution_count": 3,
   "metadata": {},
   "outputs": [],
   "source": [
    "%matplotlib inline\n",
    "%config InlineBackend.figure_format = 'retina'\n",
    "\n",
    "import matplotlib.pyplot as plt\n",
    "import numpy as np\n",
    "import time\n",
    "\n",
    "import torch\n",
    "from torch import nn\n",
    "from torch import optim\n",
    "import torch.nn.functional as F\n",
    "from torchvision import datasets, transforms\n",
    "\n",
    "import helper"
   ]
  },
  {
   "cell_type": "markdown",
   "metadata": {},
   "source": [
    "## Building the network\n",
    "\n",
    "Here you should define your network. As with MNIST, each image is 28x28 which is a total of 784 pixels, and there are 10 classes. You should include at least one hidden layer. We suggest you use ReLU activations for the layers and to return the logits from the forward pass. It's up to you how many layers you add and the size of those layers."
   ]
  },
  {
   "cell_type": "code",
   "execution_count": 20,
   "metadata": {},
   "outputs": [],
   "source": [
    "# TODO: Define your network architecture here\n",
    "input_size = 28 * 28\n",
    "hidden_sizes = [256, 128, 128, 64]\n",
    "output_size = 10"
   ]
  },
  {
   "cell_type": "markdown",
   "metadata": {},
   "source": [
    "# Train the network\n",
    "\n",
    "Now you should create your network and train it. First you'll want to define [the criterion](http://pytorch.org/docs/master/nn.html#loss-functions) ( something like `nn.CrossEntropyLoss`) and [the optimizer](http://pytorch.org/docs/master/optim.html) (typically `optim.SGD` or `optim.Adam`).\n",
    "\n",
    "Then write the training code. Remember the training pass is a fairly straightforward process:\n",
    "\n",
    "* Make a forward pass through the network to get the logits \n",
    "* Use the logits to calculate the loss\n",
    "* Perform a backward pass through the network with `loss.backward()` to calculate the gradients\n",
    "* Take a step with the optimizer to update the weights\n",
    "\n",
    "By adjusting the hyperparameters (hidden units, learning rate, etc), you should be able to get the training loss below 0.4."
   ]
  },
  {
   "cell_type": "code",
   "execution_count": 21,
   "metadata": {},
   "outputs": [],
   "source": [
    "# TODO: Create the network, define the criterion and optimizer\n",
    "model = nn.Sequential(\n",
    "    nn.Linear(input_size, hidden_sizes[0]),\n",
    "    nn.ReLU(),\n",
    "    nn.Linear(hidden_sizes[0], hidden_sizes[1]),\n",
    "    nn.ReLU(),\n",
    "    nn.Linear(hidden_sizes[1], hidden_sizes[2]),\n",
    "    nn.ReLU(),\n",
    "    nn.Linear(hidden_sizes[2], hidden_sizes[3]),\n",
    "    nn.ReLU(),\n",
    "    nn.Linear(hidden_sizes[3], output_size)\n",
    ")\n",
    "\n",
    "criterion = nn.CrossEntropyLoss()\n",
    "optimizer = optim.SGD(model.parameters(), lr=0.1)"
   ]
  },
  {
   "cell_type": "code",
   "execution_count": 22,
   "metadata": {},
   "outputs": [
    {
     "name": "stdout",
     "output_type": "stream",
     "text": [
      "1 / 3 epochs current loss is 2.2814\n",
      "1 / 3 epochs current loss is 1.8064\n",
      "1 / 3 epochs current loss is 1.2257\n",
      "1 / 3 epochs current loss is 0.9775\n",
      "1 / 3 epochs current loss is 0.8694\n",
      "1 / 3 epochs current loss is 0.7623\n",
      "1 / 3 epochs current loss is 0.7226\n",
      "1 / 3 epochs current loss is 0.6666\n",
      "1 / 3 epochs current loss is 0.6796\n",
      "1 / 3 epochs current loss is 0.6179\n",
      "1 / 3 epochs current loss is 0.6174\n",
      "1 / 3 epochs current loss is 0.6066\n",
      "1 / 3 epochs current loss is 0.6074\n",
      "1 / 3 epochs current loss is 0.5479\n",
      "1 / 3 epochs current loss is 0.5035\n",
      "1 / 3 epochs current loss is 0.5440\n",
      "1 / 3 epochs current loss is 0.5153\n",
      "1 / 3 epochs current loss is 0.5019\n",
      "1 / 3 epochs current loss is 0.5236\n",
      "1 / 3 epochs current loss is 0.5051\n",
      "1 / 3 epochs current loss is 0.4921\n",
      "1 / 3 epochs current loss is 0.4963\n",
      "1 / 3 epochs current loss is 0.4671\n",
      "2 / 3 epochs current loss is 0.4707\n",
      "2 / 3 epochs current loss is 0.4461\n",
      "2 / 3 epochs current loss is 0.4858\n",
      "2 / 3 epochs current loss is 0.4690\n",
      "2 / 3 epochs current loss is 0.4796\n",
      "2 / 3 epochs current loss is 0.4582\n",
      "2 / 3 epochs current loss is 0.4315\n",
      "2 / 3 epochs current loss is 0.4535\n",
      "2 / 3 epochs current loss is 0.4819\n",
      "2 / 3 epochs current loss is 0.4230\n",
      "2 / 3 epochs current loss is 0.4455\n",
      "2 / 3 epochs current loss is 0.4244\n",
      "2 / 3 epochs current loss is 0.4106\n",
      "2 / 3 epochs current loss is 0.4467\n",
      "2 / 3 epochs current loss is 0.3976\n",
      "2 / 3 epochs current loss is 0.4213\n",
      "2 / 3 epochs current loss is 0.4193\n",
      "2 / 3 epochs current loss is 0.4460\n",
      "2 / 3 epochs current loss is 0.4224\n",
      "2 / 3 epochs current loss is 0.4083\n",
      "2 / 3 epochs current loss is 0.3892\n",
      "2 / 3 epochs current loss is 0.4335\n",
      "2 / 3 epochs current loss is 0.4161\n",
      "3 / 3 epochs current loss is 0.4126\n",
      "3 / 3 epochs current loss is 0.4006\n",
      "3 / 3 epochs current loss is 0.3923\n",
      "3 / 3 epochs current loss is 0.3930\n",
      "3 / 3 epochs current loss is 0.4068\n",
      "3 / 3 epochs current loss is 0.3941\n",
      "3 / 3 epochs current loss is 0.3922\n",
      "3 / 3 epochs current loss is 0.3755\n",
      "3 / 3 epochs current loss is 0.3587\n",
      "3 / 3 epochs current loss is 0.3602\n",
      "3 / 3 epochs current loss is 0.4051\n",
      "3 / 3 epochs current loss is 0.4001\n",
      "3 / 3 epochs current loss is 0.4001\n",
      "3 / 3 epochs current loss is 0.3605\n",
      "3 / 3 epochs current loss is 0.3941\n",
      "3 / 3 epochs current loss is 0.3842\n",
      "3 / 3 epochs current loss is 0.3787\n",
      "3 / 3 epochs current loss is 0.3486\n",
      "3 / 3 epochs current loss is 0.3857\n",
      "3 / 3 epochs current loss is 0.3578\n",
      "3 / 3 epochs current loss is 0.3934\n",
      "3 / 3 epochs current loss is 0.3701\n",
      "3 / 3 epochs current loss is 0.3372\n",
      "3 / 3 epochs current loss is 0.3767\n"
     ]
    }
   ],
   "source": [
    "# TODO: Train the network here\n",
    "epochs = 3\n",
    "print_every = 40\n",
    "steps = 0\n",
    "running_loss = 0\n",
    "\n",
    "for epoch in range(epochs):\n",
    "    for images, labels in iter(trainloader):\n",
    "        steps += 1\n",
    "        images.resize_(images.size()[0], 28 * 28)\n",
    "        \n",
    "        optimizer.zero_grad()\n",
    "        output = model.forward(images)\n",
    "        loss = criterion(output, labels)\n",
    "        loss.backward()\n",
    "        optimizer.step()\n",
    "        \n",
    "        running_loss += loss.item()\n",
    "        if steps % print_every == 0:\n",
    "            print('{} / {} epochs'.format(epoch + 1, epochs), 'current loss is {:.4f}'.\\\n",
    "                  format(running_loss / print_every))\n",
    "            running_loss = 0\n",
    "        "
   ]
  },
  {
   "cell_type": "code",
   "execution_count": 23,
   "metadata": {},
   "outputs": [
    {
     "data": {
      "image/png": "[encoded data removed]",
      "text/plain": [
       "<Figure size 432x648 with 2 Axes>"
      ]
     },
     "metadata": {
      "image/png": {
       "height": 206,
       "width": 423
      },
      "needs_background": "light"
     },
     "output_type": "display_data"
    }
   ],
   "source": [
    "# Test out your network!\n",
    "\n",
    "dataiter = iter(testloader)\n",
    "images, labels = dataiter.next()\n",
    "img = images[0]\n",
    "# Convert 2D image to 1D vector\n",
    "img = img.resize_(1, 784)\n",
    "\n",
    "# TODO: Calculate the class probabilities (softmax) for img\n",
    "logits = model.forward(img)\n",
    "ps = F.softmax(logits, dim=1)\n",
    "\n",
    "# Plot the image and probabilities\n",
    "helper.view_classify(img.resize_(1, 28, 28), ps, version='Fashion')"
   ]
  },
  {
   "cell_type": "markdown",
   "metadata": {},
   "source": [
    "Now that your network is trained, you'll want to save it to disk so you can load it later instead of training it again. Obviously, it's impractical to train a network every time you need one. In practice, you'll train it once, save the model, then reload it for further training or making predictions. In the next part, I'll show you how to save and load trained models."
   ]
  }
 ],
 "metadata": {
  "kernelspec": {
   "display_name": "Python 3",
   "language": "python",
   "name": "python3"
  },
  "language_info": {
   "codemirror_mode": {
    "name": "ipython",
    "version": 3
   },
   "file_extension": ".py",
   "mimetype": "text/x-python",
   "name": "python",
   "nbconvert_exporter": "python",
   "pygments_lexer": "ipython3",
   "version": "3.7.1"
  }
 },
 "nbformat": 4,
 "nbformat_minor": 2
}
