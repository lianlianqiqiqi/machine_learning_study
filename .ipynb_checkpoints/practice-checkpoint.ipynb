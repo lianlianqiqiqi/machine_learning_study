{
 "cells": [
  {
   "cell_type": "code",
   "execution_count": 1,
   "metadata": {},
   "outputs": [],
   "source": [
    "from torchvision import datasets, transforms\n",
    "import torch"
   ]
  },
  {
   "cell_type": "code",
   "execution_count": 2,
   "metadata": {},
   "outputs": [],
   "source": [
    "transform = transforms.Compose([transforms.ToTensor(),\n",
    "                               transforms.Normalize((0.5, 0.5, 0.5), (0.5, 0.5, 0.5))])\n",
    "\n",
    "train_set = datasets.MNIST('MNIST_data/', download=False, train=True, transform=transform)\n",
    "trainloader = torch.utils.data.DataLoader(train_set, batch_size=64, shuffle=True)"
   ]
  },
  {
   "cell_type": "code",
   "execution_count": 3,
   "metadata": {},
   "outputs": [],
   "source": [
    "input_size = 28 * 28\n",
    "hidden_sizes = [128, 64]\n",
    "output_size = 10\n",
    "from torch import nn\n",
    "from torch import optim"
   ]
  },
  {
   "cell_type": "code",
   "execution_count": 4,
   "metadata": {},
   "outputs": [],
   "source": [
    "model = nn.Sequential(\n",
    "    nn.Linear(input_size, hidden_sizes[0]),\n",
    "    nn.ReLU(),\n",
    "    nn.Linear(hidden_sizes[0], hidden_sizes[1]),\n",
    "    nn.ReLU(),\n",
    "    nn.Linear(hidden_sizes[1], output_size)\n",
    ")"
   ]
  },
  {
   "cell_type": "code",
   "execution_count": 5,
   "metadata": {},
   "outputs": [],
   "source": [
    "criterion = nn.CrossEntropyLoss()\n",
    "optimizer = optim.SGD(model.parameters(), lr=0.01)"
   ]
  },
  {
   "cell_type": "code",
   "execution_count": 6,
   "metadata": {
    "scrolled": true
   },
   "outputs": [
    {
     "name": "stdout",
     "output_type": "stream",
     "text": [
      "1 / 3 epochs current loss is 2.2766\n",
      "1 / 3 epochs current loss is 2.2127\n",
      "1 / 3 epochs current loss is 2.1151\n",
      "1 / 3 epochs current loss is 1.9887\n",
      "1 / 3 epochs current loss is 1.8320\n",
      "1 / 3 epochs current loss is 1.6314\n",
      "1 / 3 epochs current loss is 1.3935\n",
      "1 / 3 epochs current loss is 1.2082\n",
      "1 / 3 epochs current loss is 1.0308\n",
      "1 / 3 epochs current loss is 0.9192\n",
      "1 / 3 epochs current loss is 0.8244\n",
      "1 / 3 epochs current loss is 0.7671\n",
      "1 / 3 epochs current loss is 0.7001\n",
      "1 / 3 epochs current loss is 0.6768\n",
      "1 / 3 epochs current loss is 0.6043\n",
      "1 / 3 epochs current loss is 0.6047\n",
      "1 / 3 epochs current loss is 0.5514\n",
      "1 / 3 epochs current loss is 0.5315\n",
      "1 / 3 epochs current loss is 0.5297\n",
      "1 / 3 epochs current loss is 0.4990\n",
      "1 / 3 epochs current loss is 0.5137\n",
      "1 / 3 epochs current loss is 0.4574\n",
      "1 / 3 epochs current loss is 0.4950\n",
      "2 / 3 epochs current loss is 0.4566\n",
      "2 / 3 epochs current loss is 0.4491\n",
      "2 / 3 epochs current loss is 0.4839\n",
      "2 / 3 epochs current loss is 0.4286\n",
      "2 / 3 epochs current loss is 0.4325\n",
      "2 / 3 epochs current loss is 0.4433\n",
      "2 / 3 epochs current loss is 0.4046\n",
      "2 / 3 epochs current loss is 0.3961\n",
      "2 / 3 epochs current loss is 0.3872\n",
      "2 / 3 epochs current loss is 0.4231\n",
      "2 / 3 epochs current loss is 0.4265\n",
      "2 / 3 epochs current loss is 0.3960\n",
      "2 / 3 epochs current loss is 0.4026\n",
      "2 / 3 epochs current loss is 0.3711\n",
      "2 / 3 epochs current loss is 0.3526\n",
      "2 / 3 epochs current loss is 0.3901\n",
      "2 / 3 epochs current loss is 0.3531\n",
      "2 / 3 epochs current loss is 0.3423\n",
      "2 / 3 epochs current loss is 0.3464\n",
      "2 / 3 epochs current loss is 0.3686\n",
      "2 / 3 epochs current loss is 0.3766\n",
      "2 / 3 epochs current loss is 0.3232\n",
      "2 / 3 epochs current loss is 0.3696\n",
      "3 / 3 epochs current loss is 0.3309\n",
      "3 / 3 epochs current loss is 0.3602\n",
      "3 / 3 epochs current loss is 0.3511\n",
      "3 / 3 epochs current loss is 0.3218\n",
      "3 / 3 epochs current loss is 0.3406\n",
      "3 / 3 epochs current loss is 0.3531\n",
      "3 / 3 epochs current loss is 0.3185\n",
      "3 / 3 epochs current loss is 0.3265\n",
      "3 / 3 epochs current loss is 0.3639\n",
      "3 / 3 epochs current loss is 0.3190\n",
      "3 / 3 epochs current loss is 0.3146\n",
      "3 / 3 epochs current loss is 0.3296\n",
      "3 / 3 epochs current loss is 0.3515\n",
      "3 / 3 epochs current loss is 0.3248\n",
      "3 / 3 epochs current loss is 0.2977\n",
      "3 / 3 epochs current loss is 0.3100\n",
      "3 / 3 epochs current loss is 0.3467\n",
      "3 / 3 epochs current loss is 0.3481\n",
      "3 / 3 epochs current loss is 0.2785\n",
      "3 / 3 epochs current loss is 0.3215\n",
      "3 / 3 epochs current loss is 0.3169\n",
      "3 / 3 epochs current loss is 0.3363\n",
      "3 / 3 epochs current loss is 0.3181\n",
      "3 / 3 epochs current loss is 0.3186\n"
     ]
    }
   ],
   "source": [
    "epochs = 3\n",
    "print_every = 40\n",
    "steps = 0\n",
    "running_loss = 0\n",
    "\n",
    "for epoch in range(epochs):\n",
    "    for images, labels in iter(trainloader):\n",
    "        steps += 1\n",
    "        images.resize_(images.size()[0], 28 * 28)\n",
    "        \n",
    "        optimizer.zero_grad()\n",
    "        output = model.forward(images)\n",
    "        loss = criterion(output, labels)\n",
    "        loss.backward()\n",
    "        optimizer.step()\n",
    "        \n",
    "        running_loss += loss.item()\n",
    "        if steps % print_every == 0:\n",
    "            print('{} / {} epochs'.format(epoch + 1, epochs), 'current loss is {:.4f}'.\\\n",
    "                  format(running_loss / print_every))\n",
    "            \n",
    "            running_loss = 0\n",
    "    "
   ]
  },
  {
   "cell_type": "code",
   "execution_count": 7,
   "metadata": {},
   "outputs": [],
   "source": [
    "import matplotlib.pyplot as plt"
   ]
  },
  {
   "cell_type": "code",
   "execution_count": 9,
   "metadata": {},
   "outputs": [
    {
     "data": {
      "text/plain": [
       "<matplotlib.image.AxesImage at 0x12795e5f8>"
      ]
     },
     "execution_count": 9,
     "metadata": {},
     "output_type": "execute_result"
    },
    {
     "data": {
      "image/png": "[encoded data removed]",
      "text/plain": [
       "<Figure size 432x288 with 1 Axes>"
      ]
     },
     "metadata": {
      "needs_background": "light"
     },
     "output_type": "display_data"
    }
   ],
   "source": [
    "plt.imshow(images[0].resize_(28,28))"
   ]
  },
  {
   "cell_type": "code",
   "execution_count": 11,
   "metadata": {
    "scrolled": true
   },
   "outputs": [
    {
     "data": {
      "text/plain": [
       "tensor([-0.2738, -5.7892, -1.3133, -0.2394, -0.3497, -1.1168, -9.5227, 12.4954,\n",
       "         0.4911,  5.9163], grad_fn=<AddBackward0>)"
      ]
     },
     "execution_count": 11,
     "metadata": {},
     "output_type": "execute_result"
    }
   ],
   "source": [
    "model.forward(images[0].resize_(28 * 28))"
   ]
  },
  {
   "cell_type": "code",
   "execution_count": 12,
   "metadata": {},
   "outputs": [],
   "source": [
    "from PIL import Image"
   ]
  },
  {
   "cell_type": "code",
   "execution_count": 15,
   "metadata": {},
   "outputs": [
    {
     "ename": "FileNotFoundError",
     "evalue": "[Errno 2] No such file or directory: './IMG_2511.JPG'",
     "output_type": "error",
     "traceback": [
      "\u001b[0;31m---------------------------------------------------------------------------\u001b[0m",
      "\u001b[0;31mFileNotFoundError\u001b[0m                         Traceback (most recent call last)",
      "\u001b[0;32m<ipython-input-15-6e0b8974fb0f>\u001b[0m in \u001b[0;36m<module>\u001b[0;34m\u001b[0m\n\u001b[0;32m----> 1\u001b[0;31m \u001b[0mimg\u001b[0m \u001b[0;34m=\u001b[0m \u001b[0mopen\u001b[0m\u001b[0;34m(\u001b[0m\u001b[0;34m'./IMG_2511.JPG'\u001b[0m\u001b[0;34m)\u001b[0m\u001b[0;34m\u001b[0m\u001b[0;34m\u001b[0m\u001b[0m\n\u001b[0m",
      "\u001b[0;31mFileNotFoundError\u001b[0m: [Errno 2] No such file or directory: './IMG_2511.JPG'"
     ]
    }
   ],
   "source": [
    "img = open('./IMG_2511.JPG')"
   ]
  },
  {
   "cell_type": "code",
   "execution_count": null,
   "metadata": {},
   "outputs": [],
   "source": []
  }
 ],
 "metadata": {
  "kernelspec": {
   "display_name": "Python 3",
   "language": "python",
   "name": "python3"
  },
  "language_info": {
   "codemirror_mode": {
    "name": "ipython",
    "version": 3
   },
   "file_extension": ".py",
   "mimetype": "text/x-python",
   "name": "python",
   "nbconvert_exporter": "python",
   "pygments_lexer": "ipython3",
   "version": "3.7.1"
  }
 },
 "nbformat": 4,
 "nbformat_minor": 2
}
