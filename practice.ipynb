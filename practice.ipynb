{
 "cells": [
  {
   "cell_type": "code",
   "execution_count": 1,
   "metadata": {},
   "outputs": [],
   "source": [
    "from fc_model import Network, train"
   ]
  },
  {
   "cell_type": "code",
   "execution_count": 2,
   "metadata": {},
   "outputs": [],
   "source": [
    "from torchvision import datasets, transforms"
   ]
  },
  {
   "cell_type": "code",
   "execution_count": 3,
   "metadata": {},
   "outputs": [],
   "source": [
    "from torch import optim\n",
    "from torch.nn import functional as F\n",
    "import torch\n",
    "from torch import nn\n",
    "from Network import Model"
   ]
  },
  {
   "cell_type": "code",
   "execution_count": 4,
   "metadata": {},
   "outputs": [],
   "source": [
    "transform = transforms.Compose([transforms.ToTensor(),\n",
    "                              transforms.Normalize((0.5, 0.5, 0.5), (0.5, 0.5, 0.5)),\n",
    "                             ])\n",
    "trainset = datasets.MNIST('./MNIST_data', download=False, train=True, transform=transform)\n",
    "trainloader = torch.utils.data.DataLoader(trainset, batch_size=64, shuffle=True)\n",
    "\n",
    "testset = datasets.MNIST('./MNIST_data', download=False, train=False, transform=transform)\n",
    "testloader = torch.utils.data.DataLoader(trainset, batch_size=64, shuffle=True)"
   ]
  },
  {
   "cell_type": "code",
   "execution_count": 5,
   "metadata": {},
   "outputs": [],
   "source": [
    "criterion = nn.NLLLoss()"
   ]
  },
  {
   "cell_type": "code",
   "execution_count": 6,
   "metadata": {
    "scrolled": true
   },
   "outputs": [
    {
     "name": "stdout",
     "output_type": "stream",
     "text": [
      "Epoch: 1/1..  Training Loss: 0.057.. \n",
      "Epoch: 1/1..  Training Loss: 0.053.. \n",
      "Epoch: 1/1..  Training Loss: 0.045.. \n",
      "Epoch: 1/1..  Training Loss: 0.041.. \n",
      "Epoch: 1/1..  Training Loss: 0.043.. \n",
      "Epoch: 1/1..  Training Loss: 0.040.. \n",
      "Epoch: 1/1..  Training Loss: 0.036.. \n",
      "Epoch: 1/1..  Training Loss: 0.036.. \n",
      "Epoch: 1/1..  Training Loss: 0.039.. \n",
      "Epoch: 1/1..  Training Loss: 0.035.. \n",
      "Epoch: 1/1..  Training Loss: 0.034.. \n",
      "Epoch: 1/1..  Training Loss: 0.026.. \n",
      "Epoch: 1/1..  Training Loss: 0.029.. \n",
      "Epoch: 1/1..  Training Loss: 0.036.. \n",
      "Epoch: 1/1..  Training Loss: 0.030.. \n",
      "Epoch: 1/1..  Training Loss: 0.031.. \n",
      "Epoch: 1/1..  Training Loss: 0.027.. \n",
      "Epoch: 1/1..  Training Loss: 0.024.. \n",
      "Epoch: 1/1..  Training Loss: 0.034.. \n",
      "Epoch: 1/1..  Training Loss: 0.027.. \n",
      "Epoch: 1/1..  Training Loss: 0.035.. \n",
      "Epoch: 1/1..  Training Loss: 0.023.. \n",
      "Epoch: 1/1..  Training Loss: 0.034.. \n"
     ]
    }
   ],
   "source": [
    "model = Model(28 * 28, 10, [64, 64, 32], criterion)\n",
    "model.train(trainloader, testloader, epochs=1)"
   ]
  },
  {
   "cell_type": "code",
   "execution_count": 7,
   "metadata": {},
   "outputs": [
    {
     "name": "stderr",
     "output_type": "stream",
     "text": [
      "/Users/huangtianhao/machine_learning/DL_PyTorch-master/Network.py:42: UserWarning: volatile was removed and now has no effect. Use `with torch.no_grad():` instead.\n",
      "  images = Variable(images, volatile=True)\n",
      "/Users/huangtianhao/machine_learning/DL_PyTorch-master/Network.py:43: UserWarning: volatile was removed and now has no effect. Use `with torch.no_grad():` instead.\n",
      "  labels = Variable(labels, volatile=True)\n"
     ]
    },
    {
     "data": {
      "text/plain": [
       "(0.7218755689828888, tensor(0.7850))"
      ]
     },
     "execution_count": 7,
     "metadata": {},
     "output_type": "execute_result"
    }
   ],
   "source": [
    "model.validation(testloader)"
   ]
  }
 ],
 "metadata": {
  "kernelspec": {
   "display_name": "Python 3",
   "language": "python",
   "name": "python3"
  },
  "language_info": {
   "codemirror_mode": {
    "name": "ipython",
    "version": 3
   },
   "file_extension": ".py",
   "mimetype": "text/x-python",
   "name": "python",
   "nbconvert_exporter": "python",
   "pygments_lexer": "ipython3",
   "version": "3.7.1"
  }
 },
 "nbformat": 4,
 "nbformat_minor": 2
}
